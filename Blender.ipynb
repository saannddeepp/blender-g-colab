{
  "nbformat": 4,
  "nbformat_minor": 0,
  "metadata": {
    "colab": {
      "name": "Blender.ipynb",
      "private_outputs": true,
      "provenance": [],
      "collapsed_sections": [],
      "toc_visible": true,
      "include_colab_link": true
    },
    "kernelspec": {
      "name": "python3",
      "display_name": "Python 3"
    },
    "accelerator": "GPU"
  },
  "cells": [
    {
      "cell_type": "markdown",
      "metadata": {
        "id": "view-in-github",
        "colab_type": "text"
      },
      "source": [
        "<a href=\"https://colab.research.google.com/github/saannddeepp/blender-render-tool-on-google-colab/blob/main/Blender.ipynb\" target=\"_parent\"><img src=\"https://colab.research.google.com/assets/colab-badge.svg\" alt=\"Open In Colab\"/></a>"
      ]
    },
    {
      "cell_type": "markdown",
      "metadata": {
        "id": "KpHD9psW7jxO"
      },
      "source": [
        "#"
      ]
    },
    {
      "cell_type": "code",
      "metadata": {
        "id": "ldykR0fMftHt"
      },
      "source": [
        "#Download Blender from Repository\n",
        "!wget https://download.blender.org/release/Blender2.91/blender-2.91.0-linux64.tar.xz"
      ],
      "execution_count": null,
      "outputs": []
    },
    {
      "cell_type": "code",
      "metadata": {
        "id": "rQ-CKpS5hBFo"
      },
      "source": [
        "#Install Blender \n",
        "!tar xf blender-2.91.0-linux64.tar.xz"
      ],
      "execution_count": null,
      "outputs": []
    },
    {
      "cell_type": "code",
      "metadata": {
        "id": "Cbk0J6TYwvnQ"
      },
      "source": [
        "#Download some required libraries\n",
        "!apt install libboost-all-dev\n",
        "!apt install libgl1-mesa-dev"
      ],
      "execution_count": null,
      "outputs": []
    },
    {
      "cell_type": "code",
      "metadata": {
        "id": "h_E1kl9W4iV8"
      },
      "source": [
        "#Connect Google Drive\n",
        "from google.colab import drive\n",
        "drive.mount('/gdrive')"
      ],
      "execution_count": null,
      "outputs": []
    },
    {
      "cell_type": "code",
      "metadata": {
        "id": "zovtrawwBcQ3"
      },
      "source": [
        "#if you run out of ram (Currently not working)\n",
        "a = []\n",
        "while(1):\n",
        "    a.append(1)"
      ],
      "execution_count": null,
      "outputs": []
    },
    {
      "cell_type": "code",
      "metadata": {
        "id": "AYLt4dk18KPS"
      },
      "source": [
        "filename = '/gdrive/MyDrive/Blender/jingles.blend'"
      ],
      "execution_count": null,
      "outputs": []
    },
    {
      "cell_type": "code",
      "metadata": {
        "id": "_p77a65khTRB"
      },
      "source": [
        "#Run Blender \n",
        "!sudo ./blender-2.91.0-linux64/blender -b $filename -noaudio -P '/gdrive/MyDrive/Blender/GPU.py'  -E 'CYCLES' -F 'PNG' -f 102\n",
        "#!sudo ./blender-2.91.0-linux64/blender -b $filename -noaudio -- --cycles-device CUDA  -E 'CYCLES' -f 1 -F 'PNG'\n",
        "# -E = Engine, -F = file extention, -f = frame, -b = background, -P = Python file (GPU.py) for "
      ],
      "execution_count": null,
      "outputs": []
    },
    {
      "cell_type": "code",
      "metadata": {
        "id": "_LT8bkKZH_SQ"
      },
      "source": [
        "#for BLENDER_EEVEE (Currently not working)\n",
        "!sudo ./blender-2.91.0-linux64/blender -b $filename -noaudio -f 1"
      ],
      "execution_count": null,
      "outputs": []
    },
    {
      "cell_type": "code",
      "metadata": {
        "id": "p4fAgfVHHEtc"
      },
      "source": [
        "#for animation for video\n",
        "!sudo ./blender-2.91.0-linux64/blender -b $filename -noaudio -P '/gdrive/MyDrive/Blender/GPU.py'  -E 'CYCLES' -s 1 -e 240 -t 2 -a\n",
        "#!sudo ./blender-2.91.0-linux64/blender -b $filename -noaudio -P '/gdrive/MyDrive/Blender/GPU.py'  -E 'CYCLES' -f 1 -F 'PNG'\n",
        "# -s = start frame and -e = end frame\n"
      ],
      "execution_count": null,
      "outputs": []
    },
    {
      "cell_type": "code",
      "metadata": {
        "id": "gpFTbCZjHtqn"
      },
      "source": [
        "#for BLENDER_EEVEE Animation (Currently not working)\n",
        "!sudo ./blender-2.91.0-linux64/blender -b $filename -noaudio -s 10 -e 500 -t 2 -a"
      ],
      "execution_count": null,
      "outputs": []
    },
    {
      "cell_type": "code",
      "metadata": {
        "id": "qD0Os7gLQVmC"
      },
      "source": [
        ""
      ],
      "execution_count": null,
      "outputs": []
    }
  ]
}